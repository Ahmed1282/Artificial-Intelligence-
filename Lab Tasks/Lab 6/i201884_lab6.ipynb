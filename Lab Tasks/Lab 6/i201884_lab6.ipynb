{
  "cells": [
    {
      "cell_type": "code",
      "execution_count": 4,
      "id": "2b8eb350",
      "metadata": {
        "colab": {
          "base_uri": "https://localhost:8080/"
        },
        "id": "2b8eb350",
        "outputId": "23ff8d2d-c736-4aec-9192-7010c963b6b5"
      },
      "outputs": [
        {
          "output_type": "stream",
          "name": "stdout",
          "text": [
            "Enter number of queens: 4\n",
            "Enter size of population: 200\n",
            "Enter number of generations: 500\n",
            "A solution was found: \n",
            "0 Q 0 0\n",
            "0 0 0 Q\n",
            "Q 0 0 0\n",
            "0 0 Q 0\n",
            "\n",
            "\n"
          ]
        }
      ],
      "source": [
        "import random\n",
        "import numpy as np\n",
        "\n",
        "def create_population(population_size, num_queens):\n",
        "    population = []\n",
        "    for i in range(population_size):\n",
        "        individual = list(np.random.permutation(num_queens))\n",
        "        population.append(individual)\n",
        "    return population\n",
        "\n",
        "def fitness_score(individual):\n",
        "    horizontal_collisions = sum([individual.count(queen)-1 for queen in individual])/2\n",
        "    \n",
        "    diagonal_collisions = 0\n",
        "    n = len(individual)\n",
        "    left_diagonal = [0] * 2*n\n",
        "    right_diagonal = [0] * 2*n\n",
        "    for i in range(n):\n",
        "        left_diagonal[i+individual[i]-1] += 1\n",
        "        right_diagonal[len(individual)-i+individual[i]-2] += 1\n",
        "    \n",
        "    for i in range(2*n-1):\n",
        "        counter = 0\n",
        "        if left_diagonal[i] > 1:\n",
        "            counter += left_diagonal[i]-1\n",
        "        if right_diagonal[i] > 1:\n",
        "            counter += right_diagonal[i]-1\n",
        "        diagonal_collisions += counter / (n-abs(i-n+1))\n",
        "    \n",
        "    max_fitness_score = (num_queens*(num_queens-1))/2\n",
        "    fitness_score = int(max_fitness_score - (horizontal_collisions + diagonal_collisions))\n",
        "    \n",
        "    return fitness_score\n",
        "\n",
        "def selection(population):\n",
        "    fitness_scores = [fitness_score(individual) for individual in population]\n",
        "    max_score = max(fitness_scores)\n",
        "    selection_probs = [score/max_score for score in fitness_scores]\n",
        "    return random.choices(population, weights=selection_probs, k=2)\n",
        "\n",
        "def crossover(parents):\n",
        "    n = len(parents[0])\n",
        "    crossover_point = random.randint(1, n-1)\n",
        "    child1 = parents[0][:crossover_point] + parents[1][crossover_point:]\n",
        "    child2 = parents[1][:crossover_point] + parents[0][crossover_point:]\n",
        "    return [child1, child2]\n",
        "\n",
        "def mutation(individual):\n",
        "    n = len(individual)\n",
        "    mutation_point = random.randint(0, n-1)\n",
        "    new_value = random.randint(0, n-1)\n",
        "    individual[mutation_point] = new_value\n",
        "    return individual\n",
        "\n",
        "def genetic_algorithm(num_queens, population_size, num_generations):\n",
        "    population = create_population(population_size, num_queens)\n",
        "    for i in range(num_generations):\n",
        "        new_population = []\n",
        "        for j in range(int(population_size/2)):\n",
        "            parents = selection(population)\n",
        "            offspring = crossover(parents)\n",
        "            child1 = mutation(offspring[0])\n",
        "            child2 = mutation(offspring[1])\n",
        "            new_population.extend([child1, child2])\n",
        "        population = new_population\n",
        "        for individual in population:\n",
        "            if fitness_score(individual) == max_fitness_score:\n",
        "                print(\"A solution was found: \")\n",
        "                print_board(individual)\n",
        "                return\n",
        "    print(\"No solution was found.\")\n",
        "\n",
        "def print_board(individual):\n",
        "    n = len(individual)\n",
        "    for i in range(n):\n",
        "        row = [\"0\"] * n\n",
        "        for j in range(n):\n",
        "            if individual[j] == i:\n",
        "                row[j] = \"Q\"\n",
        "        print(\" \".join(row))\n",
        "    print(\"\\n\")\n",
        "\n",
        "# testing\n",
        "num_queens = int(input(\"Enter number of queens: \"))\n",
        "population_size = int(input(\"Enter size of population: \"))\n",
        "num_generations = int(input(\"Enter number of generations: \"))\n",
        "max_fitness_score = (num_queens*(num_queens-1))/2\n",
        "genetic_algorithm(num_queens, population_size, num_generations)\n"
      ]
    },
    {
      "cell_type": "code",
      "execution_count": null,
      "id": "af3d244c",
      "metadata": {
        "id": "af3d244c"
      },
      "outputs": [],
      "source": []
    }
  ],
  "metadata": {
    "kernelspec": {
      "display_name": "Python 3 (ipykernel)",
      "language": "python",
      "name": "python3"
    },
    "language_info": {
      "codemirror_mode": {
        "name": "ipython",
        "version": 3
      },
      "file_extension": ".py",
      "mimetype": "text/x-python",
      "name": "python",
      "nbconvert_exporter": "python",
      "pygments_lexer": "ipython3",
      "version": "3.9.7"
    },
    "colab": {
      "provenance": []
    }
  },
  "nbformat": 4,
  "nbformat_minor": 5
}