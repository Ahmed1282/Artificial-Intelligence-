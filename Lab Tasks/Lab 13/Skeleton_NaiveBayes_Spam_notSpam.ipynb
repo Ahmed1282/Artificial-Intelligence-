{
 "cells": [
  {
   "cell_type": "code",
   "execution_count": 1,
   "id": "0598d031",
   "metadata": {},
   "outputs": [],
   "source": [
    "import matplotlib.pyplot as plt\n",
    "import seaborn as sns"
   ]
  },
  {
   "cell_type": "code",
   "execution_count": 2,
   "id": "cbcf075e",
   "metadata": {},
   "outputs": [],
   "source": [
    "import pandas as pd\n",
    "from sklearn.preprocessing import LabelEncoder"
   ]
  },
  {
   "cell_type": "code",
   "execution_count": 13,
   "id": "85a38665",
   "metadata": {},
   "outputs": [
    {
     "data": {
      "text/html": [
       "<div>\n",
       "<style scoped>\n",
       "    .dataframe tbody tr th:only-of-type {\n",
       "        vertical-align: middle;\n",
       "    }\n",
       "\n",
       "    .dataframe tbody tr th {\n",
       "        vertical-align: top;\n",
       "    }\n",
       "\n",
       "    .dataframe thead th {\n",
       "        text-align: right;\n",
       "    }\n",
       "</style>\n",
       "<table border=\"1\" class=\"dataframe\">\n",
       "  <thead>\n",
       "    <tr style=\"text-align: right;\">\n",
       "      <th></th>\n",
       "      <th>Category</th>\n",
       "      <th>Message</th>\n",
       "    </tr>\n",
       "  </thead>\n",
       "  <tbody>\n",
       "    <tr>\n",
       "      <th>0</th>\n",
       "      <td>ham</td>\n",
       "      <td>Go until jurong point, crazy.. Available only ...</td>\n",
       "    </tr>\n",
       "    <tr>\n",
       "      <th>1</th>\n",
       "      <td>ham</td>\n",
       "      <td>Ok lar... Joking wif u oni...</td>\n",
       "    </tr>\n",
       "    <tr>\n",
       "      <th>2</th>\n",
       "      <td>spam</td>\n",
       "      <td>Free entry in 2 a wkly comp to win FA Cup fina...</td>\n",
       "    </tr>\n",
       "    <tr>\n",
       "      <th>3</th>\n",
       "      <td>ham</td>\n",
       "      <td>U dun say so early hor... U c already then say...</td>\n",
       "    </tr>\n",
       "    <tr>\n",
       "      <th>4</th>\n",
       "      <td>ham</td>\n",
       "      <td>Nah I don't think he goes to usf, he lives aro...</td>\n",
       "    </tr>\n",
       "  </tbody>\n",
       "</table>\n",
       "</div>"
      ],
      "text/plain": [
       "  Category                                            Message\n",
       "0      ham  Go until jurong point, crazy.. Available only ...\n",
       "1      ham                      Ok lar... Joking wif u oni...\n",
       "2     spam  Free entry in 2 a wkly comp to win FA Cup fina...\n",
       "3      ham  U dun say so early hor... U c already then say...\n",
       "4      ham  Nah I don't think he goes to usf, he lives aro..."
      ]
     },
     "execution_count": 13,
     "metadata": {},
     "output_type": "execute_result"
    }
   ],
   "source": [
    "df = pd.read_csv('E:/FAST-LABS/Spring-2023/Lab Manuals/Lab 13 - NB and KMeans/Lab Manual 06 Naive Bayes/spam.csv')\n",
    "df.head() # to display first 5 rows of the dataset"
   ]
  },
  {
   "cell_type": "code",
   "execution_count": 14,
   "id": "17029f3e",
   "metadata": {},
   "outputs": [
    {
     "data": {
      "text/html": [
       "<div>\n",
       "<style scoped>\n",
       "    .dataframe tbody tr th:only-of-type {\n",
       "        vertical-align: middle;\n",
       "    }\n",
       "\n",
       "    .dataframe tbody tr th {\n",
       "        vertical-align: top;\n",
       "    }\n",
       "\n",
       "    .dataframe thead th {\n",
       "        text-align: right;\n",
       "    }\n",
       "</style>\n",
       "<table border=\"1\" class=\"dataframe\">\n",
       "  <thead>\n",
       "    <tr style=\"text-align: right;\">\n",
       "      <th></th>\n",
       "      <th>Category</th>\n",
       "      <th>Message</th>\n",
       "    </tr>\n",
       "  </thead>\n",
       "  <tbody>\n",
       "    <tr>\n",
       "      <th>0</th>\n",
       "      <td>ham</td>\n",
       "      <td>Go until jurong point, crazy.. Available only ...</td>\n",
       "    </tr>\n",
       "    <tr>\n",
       "      <th>1</th>\n",
       "      <td>ham</td>\n",
       "      <td>Ok lar... Joking wif u oni...</td>\n",
       "    </tr>\n",
       "    <tr>\n",
       "      <th>2</th>\n",
       "      <td>spam</td>\n",
       "      <td>Free entry in 2 a wkly comp to win FA Cup fina...</td>\n",
       "    </tr>\n",
       "    <tr>\n",
       "      <th>3</th>\n",
       "      <td>ham</td>\n",
       "      <td>U dun say so early hor... U c already then say...</td>\n",
       "    </tr>\n",
       "    <tr>\n",
       "      <th>4</th>\n",
       "      <td>ham</td>\n",
       "      <td>Nah I don't think he goes to usf, he lives aro...</td>\n",
       "    </tr>\n",
       "    <tr>\n",
       "      <th>...</th>\n",
       "      <td>...</td>\n",
       "      <td>...</td>\n",
       "    </tr>\n",
       "    <tr>\n",
       "      <th>5567</th>\n",
       "      <td>spam</td>\n",
       "      <td>This is the 2nd time we have tried 2 contact u...</td>\n",
       "    </tr>\n",
       "    <tr>\n",
       "      <th>5568</th>\n",
       "      <td>ham</td>\n",
       "      <td>Will ü b going to esplanade fr home?</td>\n",
       "    </tr>\n",
       "    <tr>\n",
       "      <th>5569</th>\n",
       "      <td>ham</td>\n",
       "      <td>Pity, * was in mood for that. So...any other s...</td>\n",
       "    </tr>\n",
       "    <tr>\n",
       "      <th>5570</th>\n",
       "      <td>ham</td>\n",
       "      <td>The guy did some bitching but I acted like i'd...</td>\n",
       "    </tr>\n",
       "    <tr>\n",
       "      <th>5571</th>\n",
       "      <td>ham</td>\n",
       "      <td>Rofl. Its true to its name</td>\n",
       "    </tr>\n",
       "  </tbody>\n",
       "</table>\n",
       "<p>5572 rows × 2 columns</p>\n",
       "</div>"
      ],
      "text/plain": [
       "     Category                                            Message\n",
       "0         ham  Go until jurong point, crazy.. Available only ...\n",
       "1         ham                      Ok lar... Joking wif u oni...\n",
       "2        spam  Free entry in 2 a wkly comp to win FA Cup fina...\n",
       "3         ham  U dun say so early hor... U c already then say...\n",
       "4         ham  Nah I don't think he goes to usf, he lives aro...\n",
       "...       ...                                                ...\n",
       "5567     spam  This is the 2nd time we have tried 2 contact u...\n",
       "5568      ham               Will ü b going to esplanade fr home?\n",
       "5569      ham  Pity, * was in mood for that. So...any other s...\n",
       "5570      ham  The guy did some bitching but I acted like i'd...\n",
       "5571      ham                         Rofl. Its true to its name\n",
       "\n",
       "[5572 rows x 2 columns]"
      ]
     },
     "execution_count": 14,
     "metadata": {},
     "output_type": "execute_result"
    }
   ],
   "source": [
    "df"
   ]
  },
  {
   "cell_type": "code",
   "execution_count": 15,
   "id": "0e0ae170",
   "metadata": {},
   "outputs": [
    {
     "name": "stderr",
     "output_type": "stream",
     "text": [
      "c:\\Users\\haier\\anaconda3\\lib\\site-packages\\seaborn\\_decorators.py:36: FutureWarning: Pass the following variable as a keyword arg: x. From version 0.12, the only valid positional argument will be `data`, and passing other arguments without an explicit keyword will result in an error or misinterpretation.\n",
      "  warnings.warn(\n"
     ]
    },
    {
     "data": {
      "image/png": "[encoded data removed]",
      "text/plain": [
       "<Figure size 432x288 with 1 Axes>"
      ]
     },
     "metadata": {
      "needs_background": "light"
     },
     "output_type": "display_data"
    }
   ],
   "source": [
    "sns.countplot(df['Category'])\n",
    "plt.title(\"Category Counts\")\n",
    "plt.show()"
   ]
  },
  {
   "attachments": {},
   "cell_type": "markdown",
   "id": "6c1dcfa5",
   "metadata": {},
   "source": [
    "### Data Preprocessing"
   ]
  },
  {
   "cell_type": "code",
   "execution_count": 16,
   "id": "2496a1ec",
   "metadata": {},
   "outputs": [
    {
     "data": {
      "text/html": [
       "<div>\n",
       "<style scoped>\n",
       "    .dataframe tbody tr th:only-of-type {\n",
       "        vertical-align: middle;\n",
       "    }\n",
       "\n",
       "    .dataframe tbody tr th {\n",
       "        vertical-align: top;\n",
       "    }\n",
       "\n",
       "    .dataframe thead th {\n",
       "        text-align: right;\n",
       "    }\n",
       "</style>\n",
       "<table border=\"1\" class=\"dataframe\">\n",
       "  <thead>\n",
       "    <tr style=\"text-align: right;\">\n",
       "      <th></th>\n",
       "      <th>Category</th>\n",
       "      <th>Message</th>\n",
       "      <th>Category_enc</th>\n",
       "    </tr>\n",
       "  </thead>\n",
       "  <tbody>\n",
       "    <tr>\n",
       "      <th>0</th>\n",
       "      <td>ham</td>\n",
       "      <td>Go until jurong point, crazy.. Available only ...</td>\n",
       "      <td>0</td>\n",
       "    </tr>\n",
       "    <tr>\n",
       "      <th>1</th>\n",
       "      <td>ham</td>\n",
       "      <td>Ok lar... Joking wif u oni...</td>\n",
       "      <td>0</td>\n",
       "    </tr>\n",
       "    <tr>\n",
       "      <th>2</th>\n",
       "      <td>spam</td>\n",
       "      <td>Free entry in 2 a wkly comp to win FA Cup fina...</td>\n",
       "      <td>1</td>\n",
       "    </tr>\n",
       "    <tr>\n",
       "      <th>3</th>\n",
       "      <td>ham</td>\n",
       "      <td>U dun say so early hor... U c already then say...</td>\n",
       "      <td>0</td>\n",
       "    </tr>\n",
       "    <tr>\n",
       "      <th>4</th>\n",
       "      <td>ham</td>\n",
       "      <td>Nah I don't think he goes to usf, he lives aro...</td>\n",
       "      <td>0</td>\n",
       "    </tr>\n",
       "  </tbody>\n",
       "</table>\n",
       "</div>"
      ],
      "text/plain": [
       "  Category                                            Message  Category_enc\n",
       "0      ham  Go until jurong point, crazy.. Available only ...             0\n",
       "1      ham                      Ok lar... Joking wif u oni...             0\n",
       "2     spam  Free entry in 2 a wkly comp to win FA Cup fina...             1\n",
       "3      ham  U dun say so early hor... U c already then say...             0\n",
       "4      ham  Nah I don't think he goes to usf, he lives aro...             0"
      ]
     },
     "metadata": {},
     "output_type": "display_data"
    },
    {
     "name": "stdout",
     "output_type": "stream",
     "text": [
      "Category        object\n",
      "Message         object\n",
      "Category_enc     int32\n",
      "dtype: object\n"
     ]
    }
   ],
   "source": [
    "le = LabelEncoder()\n",
    "\n",
    "df['Category_enc'] = le.fit_transform(df['Category'])\n",
    "\n",
    "display(df.head())\n",
    "\n",
    "print(df.dtypes)"
   ]
  },
  {
   "cell_type": "code",
   "execution_count": 17,
   "id": "bcd10490",
   "metadata": {},
   "outputs": [],
   "source": [
    "# Store the number of words in each messages\n",
    "df['word_count'] = df['Message'].str.split().str.len()\n"
   ]
  },
  {
   "cell_type": "code",
   "execution_count": 18,
   "id": "eed86ae0",
   "metadata": {},
   "outputs": [
    {
     "name": "stdout",
     "output_type": "stream",
     "text": [
      "0       [go, until, jurong, point,, crazy.., available...\n",
      "1                    [ok, lar..., joking, wif, u, oni...]\n",
      "2       [free, entry, in, 2, a, wkly, comp, to, win, f...\n",
      "3       [u, dun, say, so, early, hor..., u, c, already...\n",
      "4       [nah, i, don't, think, he, goes, to, usf,, he,...\n",
      "                              ...                        \n",
      "5567    [this, is, the, 2nd, time, we, have, tried, 2,...\n",
      "5568        [will, ü, b, going, to, esplanade, fr, home?]\n",
      "5569    [pity,, *, was, in, mood, for, that., so...any...\n",
      "5570    [the, guy, did, some, bitching, but, i, acted,...\n",
      "5571                    [rofl., its, true, to, its, name]\n",
      "Name: Message, Length: 5572, dtype: object\n"
     ]
    }
   ],
   "source": [
    "# make it lower case\n",
    "tokenized_messages = df['Message'].str.lower().str.split(' ')\n",
    "\n",
    "# Print the tokens to see how it looks like\n",
    "print(tokenized_messages)"
   ]
  },
  {
   "cell_type": "code",
   "execution_count": 19,
   "id": "20d4e338",
   "metadata": {},
   "outputs": [
    {
     "data": {
      "text/plain": [
       "['go',\n",
       " 'until',\n",
       " 'jurong',\n",
       " 'point,',\n",
       " 'crazy..',\n",
       " 'available',\n",
       " 'only',\n",
       " 'in',\n",
       " 'bugis',\n",
       " 'n',\n",
       " 'great',\n",
       " 'world',\n",
       " 'la',\n",
       " 'e',\n",
       " 'buffet...',\n",
       " 'cine',\n",
       " 'there',\n",
       " 'got',\n",
       " 'amore',\n",
       " 'wat...']"
      ]
     },
     "execution_count": 19,
     "metadata": {},
     "output_type": "execute_result"
    }
   ],
   "source": [
    "tokenized_messages[0]"
   ]
  },
  {
   "cell_type": "code",
   "execution_count": 20,
   "id": "b10509a7",
   "metadata": {},
   "outputs": [],
   "source": [
    "# Define a function to returns only alphanumeric tokens\n",
    "def alpha(tokens):\n",
    "    \"\"\"This function removes all non-alphanumeric characters\"\"\"\n",
    "    alpha = []\n",
    "    for token in tokens:\n",
    "        new_s = ''.join(c for c in token if c.isalnum())\n",
    "        alpha.append(new_s)\n",
    "    return alpha"
   ]
  },
  {
   "cell_type": "code",
   "execution_count": 21,
   "id": "9a7d5e9d",
   "metadata": {},
   "outputs": [],
   "source": [
    "# Apply our function to tokens\n",
    "for i in range(len(tokenized_messages)):\n",
    "    tokenized_messages[i]=alpha(tokenized_messages[i])\n",
    "# print(tokenized_messages)"
   ]
  },
  {
   "cell_type": "code",
   "execution_count": 22,
   "id": "e919dde8",
   "metadata": {},
   "outputs": [],
   "source": [
    "df['Message']=tokenized_messages"
   ]
  },
  {
   "cell_type": "code",
   "execution_count": 23,
   "id": "64c02a78",
   "metadata": {},
   "outputs": [],
   "source": [
    "def to_sentence(tokens):\n",
    "    s=\"\"\n",
    "    for token in tokens:\n",
    "        s=s+\" \"+token\n",
    "    return s[1:]"
   ]
  },
  {
   "cell_type": "code",
   "execution_count": 24,
   "id": "382bfe5a",
   "metadata": {},
   "outputs": [],
   "source": [
    "for i in range(len(tokenized_messages)):\n",
    "    tokenized_messages[i]=to_sentence(tokenized_messages[i])"
   ]
  },
  {
   "cell_type": "code",
   "execution_count": 25,
   "id": "2bff1a18",
   "metadata": {},
   "outputs": [
    {
     "data": {
      "text/plain": [
       "0       go until jurong point crazy available only in ...\n",
       "1                                 ok lar joking wif u oni\n",
       "2       free entry in 2 a wkly comp to win fa cup fina...\n",
       "3             u dun say so early hor u c already then say\n",
       "4       nah i dont think he goes to usf he lives aroun...\n",
       "                              ...                        \n",
       "5567    this is the 2nd time we have tried 2 contact u...\n",
       "5568                  will ü b going to esplanade fr home\n",
       "5569    pity  was in mood for that soany other suggest...\n",
       "5570    the guy did some bitching but i acted like id ...\n",
       "5571                            rofl its true to its name\n",
       "Name: Message, Length: 5572, dtype: object"
      ]
     },
     "execution_count": 25,
     "metadata": {},
     "output_type": "execute_result"
    }
   ],
   "source": [
    "tokenized_messages"
   ]
  },
  {
   "cell_type": "code",
   "execution_count": 26,
   "id": "6da8aa13",
   "metadata": {},
   "outputs": [],
   "source": [
    "df[\"Message\"]=tokenized_messages"
   ]
  },
  {
   "cell_type": "code",
   "execution_count": 27,
   "id": "3130728c",
   "metadata": {},
   "outputs": [
    {
     "data": {
      "text/html": [
       "<div>\n",
       "<style scoped>\n",
       "    .dataframe tbody tr th:only-of-type {\n",
       "        vertical-align: middle;\n",
       "    }\n",
       "\n",
       "    .dataframe tbody tr th {\n",
       "        vertical-align: top;\n",
       "    }\n",
       "\n",
       "    .dataframe thead th {\n",
       "        text-align: right;\n",
       "    }\n",
       "</style>\n",
       "<table border=\"1\" class=\"dataframe\">\n",
       "  <thead>\n",
       "    <tr style=\"text-align: right;\">\n",
       "      <th></th>\n",
       "      <th>Category</th>\n",
       "      <th>Message</th>\n",
       "      <th>Category_enc</th>\n",
       "      <th>word_count</th>\n",
       "    </tr>\n",
       "  </thead>\n",
       "  <tbody>\n",
       "    <tr>\n",
       "      <th>0</th>\n",
       "      <td>ham</td>\n",
       "      <td>go until jurong point crazy available only in ...</td>\n",
       "      <td>0</td>\n",
       "      <td>20</td>\n",
       "    </tr>\n",
       "    <tr>\n",
       "      <th>1</th>\n",
       "      <td>ham</td>\n",
       "      <td>ok lar joking wif u oni</td>\n",
       "      <td>0</td>\n",
       "      <td>6</td>\n",
       "    </tr>\n",
       "    <tr>\n",
       "      <th>2</th>\n",
       "      <td>spam</td>\n",
       "      <td>free entry in 2 a wkly comp to win fa cup fina...</td>\n",
       "      <td>1</td>\n",
       "      <td>28</td>\n",
       "    </tr>\n",
       "    <tr>\n",
       "      <th>3</th>\n",
       "      <td>ham</td>\n",
       "      <td>u dun say so early hor u c already then say</td>\n",
       "      <td>0</td>\n",
       "      <td>11</td>\n",
       "    </tr>\n",
       "    <tr>\n",
       "      <th>4</th>\n",
       "      <td>ham</td>\n",
       "      <td>nah i dont think he goes to usf he lives aroun...</td>\n",
       "      <td>0</td>\n",
       "      <td>13</td>\n",
       "    </tr>\n",
       "    <tr>\n",
       "      <th>...</th>\n",
       "      <td>...</td>\n",
       "      <td>...</td>\n",
       "      <td>...</td>\n",
       "      <td>...</td>\n",
       "    </tr>\n",
       "    <tr>\n",
       "      <th>5567</th>\n",
       "      <td>spam</td>\n",
       "      <td>this is the 2nd time we have tried 2 contact u...</td>\n",
       "      <td>1</td>\n",
       "      <td>30</td>\n",
       "    </tr>\n",
       "    <tr>\n",
       "      <th>5568</th>\n",
       "      <td>ham</td>\n",
       "      <td>will ü b going to esplanade fr home</td>\n",
       "      <td>0</td>\n",
       "      <td>8</td>\n",
       "    </tr>\n",
       "    <tr>\n",
       "      <th>5569</th>\n",
       "      <td>ham</td>\n",
       "      <td>pity  was in mood for that soany other suggest...</td>\n",
       "      <td>0</td>\n",
       "      <td>10</td>\n",
       "    </tr>\n",
       "    <tr>\n",
       "      <th>5570</th>\n",
       "      <td>ham</td>\n",
       "      <td>the guy did some bitching but i acted like id ...</td>\n",
       "      <td>0</td>\n",
       "      <td>26</td>\n",
       "    </tr>\n",
       "    <tr>\n",
       "      <th>5571</th>\n",
       "      <td>ham</td>\n",
       "      <td>rofl its true to its name</td>\n",
       "      <td>0</td>\n",
       "      <td>6</td>\n",
       "    </tr>\n",
       "  </tbody>\n",
       "</table>\n",
       "<p>5572 rows × 4 columns</p>\n",
       "</div>"
      ],
      "text/plain": [
       "     Category                                            Message  \\\n",
       "0         ham  go until jurong point crazy available only in ...   \n",
       "1         ham                            ok lar joking wif u oni   \n",
       "2        spam  free entry in 2 a wkly comp to win fa cup fina...   \n",
       "3         ham        u dun say so early hor u c already then say   \n",
       "4         ham  nah i dont think he goes to usf he lives aroun...   \n",
       "...       ...                                                ...   \n",
       "5567     spam  this is the 2nd time we have tried 2 contact u...   \n",
       "5568      ham                will ü b going to esplanade fr home   \n",
       "5569      ham  pity  was in mood for that soany other suggest...   \n",
       "5570      ham  the guy did some bitching but i acted like id ...   \n",
       "5571      ham                          rofl its true to its name   \n",
       "\n",
       "      Category_enc  word_count  \n",
       "0                0          20  \n",
       "1                0           6  \n",
       "2                1          28  \n",
       "3                0          11  \n",
       "4                0          13  \n",
       "...            ...         ...  \n",
       "5567             1          30  \n",
       "5568             0           8  \n",
       "5569             0          10  \n",
       "5570             0          26  \n",
       "5571             0           6  \n",
       "\n",
       "[5572 rows x 4 columns]"
      ]
     },
     "metadata": {},
     "output_type": "display_data"
    }
   ],
   "source": [
    "display(df)"
   ]
  },
  {
   "cell_type": "code",
   "execution_count": 28,
   "id": "b47e5bd2",
   "metadata": {},
   "outputs": [],
   "source": [
    "from sklearn.model_selection import train_test_split\n",
    "X=df.Message\n",
    "y=df.Category_enc"
   ]
  },
  {
   "attachments": {},
   "cell_type": "markdown",
   "id": "ee875f09",
   "metadata": {},
   "source": [
    "### Apply the MultinomicalNB model"
   ]
  },
  {
   "cell_type": "code",
   "execution_count": null,
   "id": "40b62947",
   "metadata": {},
   "outputs": [],
   "source": [
    "# convert the text into vectors using the CountVectorizer function\n",
    "\n",
    "# after this apply the train_test_split function to split the data into training and testing sets\n",
    "\n",
    "# then apply the MultinomialNB function to train the model \n",
    "\n",
    "# then apply the predict function to predict the values of the test data\n",
    "\n",
    "# then apply the accuracy_score function to calculate the accuracy of the model\n",
    "\n",
    "# then apply the confusion_matrix function to calculate the confusion matrix of the model\n",
    "\n"
   ]
  },
  {
   "attachments": {},
   "cell_type": "markdown",
   "id": "3cb39496",
   "metadata": {},
   "source": [
    "### Apply anyother model to compare the results GaussianNB etc"
   ]
  },
  {
   "cell_type": "code",
   "execution_count": null,
   "id": "3b71166a",
   "metadata": {},
   "outputs": [],
   "source": [
    "# import any other NB model and apply the same steps as above and compare the results\n"
   ]
  },
  {
   "attachments": {},
   "cell_type": "markdown",
   "id": "398e24f5",
   "metadata": {},
   "source": [
    "### Testing model on unseen data"
   ]
  },
  {
   "cell_type": "code",
   "execution_count": null,
   "id": "8b3db682",
   "metadata": {},
   "outputs": [],
   "source": [
    "# take any email as input and apply the model to predict whether it is spam or not\n",
    "\n",
    "# print the result"
   ]
  }
 ],
 "metadata": {
  "kernelspec": {
   "display_name": "Python 3 (ipykernel)",
   "language": "python",
   "name": "python3"
  },
  "language_info": {
   "codemirror_mode": {
    "name": "ipython",
    "version": 3
   },
   "file_extension": ".py",
   "mimetype": "text/x-python",
   "name": "python",
   "nbconvert_exporter": "python",
   "pygments_lexer": "ipython3",
   "version": "3.9.7"
  }
 },
 "nbformat": 4,
 "nbformat_minor": 5
}
