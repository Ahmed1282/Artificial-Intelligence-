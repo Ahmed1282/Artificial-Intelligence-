{
 "cells": [
  {
   "cell_type": "code",
   "execution_count": 18,
   "id": "a11ee62a",
   "metadata": {},
   "outputs": [
    {
     "name": "stdout",
     "output_type": "stream",
     "text": [
      "Q - - - - \n",
      "- - - Q - \n",
      "- Q - - - \n",
      "- - - - Q \n",
      "- - Q - - \n"
     ]
    },
    {
     "data": {
      "text/plain": [
       "[0, 2, 4, 1, 3]"
      ]
     },
     "execution_count": 18,
     "metadata": {},
     "output_type": "execute_result"
    }
   ],
   "source": [
    "class NQueensSolver:\n",
    "    def __init__(self, n_queens):\n",
    "        self.n_queens = n_queens\n",
    "        self.board = [-1] * n_queens\n",
    "        self.remaining_vals = [set(range(n_queens)) for _ in range(n_queens)]\n",
    "        \n",
    "    def is_solution(self):\n",
    "        return -1 not in self.board\n",
    "    \n",
    "    def place_queen(self, col, row):\n",
    "        self.board[col] = row\n",
    "        \n",
    "        for c in range(self.n_queens):\n",
    "            if c != col:\n",
    "                self.remaining_vals[c].discard(row)\n",
    "                \n",
    "                distance = abs(col - c)\n",
    "                \n",
    "                if row + distance < self.n_queens:\n",
    "                    self.remaining_vals[c].discard(row + distance)\n",
    "                if row - distance >= 0:\n",
    "                    self.remaining_vals[c].discard(row - distance)\n",
    "                    \n",
    "    def remove_queen(self, col):\n",
    "    \n",
    "        row = self.board[col]\n",
    "        \n",
    "        self.board[col] = -1\n",
    "        \n",
    "        for c in range(self.n_queens):\n",
    "            if c != col:\n",
    "                \n",
    "                self.remaining_vals[c].add(row)\n",
    "                \n",
    "                distance = abs(col - c)\n",
    "                \n",
    "                if row + distance < self.n_queens:\n",
    "                    self.remaining_vals[c].add(row + distance)\n",
    "                if row - distance >= 0:\n",
    "                    self.remaining_vals[c].add(row - distance)\n",
    "                    \n",
    "    def select_next_col(self):\n",
    "        min_remaining_vals = float('inf')\n",
    "        min_col = None\n",
    "        for c in range(self.n_queens):\n",
    "            if self.board[c] == -1:\n",
    "                remaining_vals = self.remaining_vals[c]\n",
    "                if len(remaining_vals) < min_remaining_vals:\n",
    "                    min_remaining_vals = len(remaining_vals)\n",
    "                    min_col = c\n",
    "        return min_col\n",
    "    \n",
    "    def backtrack(self):\n",
    "        \n",
    "        if self.is_solution():\n",
    "            return self.board.copy()\n",
    "        \n",
    "        col = self.select_next_col()\n",
    "        \n",
    "        for row in list(self.remaining_vals[col]):\n",
    "            self.place_queen(col, row)\n",
    "            \n",
    "            if self.backtrack():\n",
    "                return True\n",
    "\n",
    "            self.remove_queen(col)\n",
    "            \n",
    "        return False\n",
    "\n",
    "def solve_n_queens(n_queens):\n",
    "    solver = NQueensSolver(n_queens)\n",
    "    if solver.backtrack():\n",
    "        board = solver.board\n",
    "        for row in range(n_queens):\n",
    "            for col in range(n_queens):\n",
    "                if board[col] == row:\n",
    "                    print(\"Q\", end=\" \")\n",
    "                else:\n",
    "                    print(\"-\", end=\" \")\n",
    "            print()\n",
    "        return board\n",
    "    else:\n",
    "        print(f\"No solution found for {n_queens} queens.\")\n",
    "        return None\n",
    "    \n",
    "solve_n_queens(5)\n"
   ]
  },
  {
   "cell_type": "code",
   "execution_count": null,
   "id": "7fb9b2e7",
   "metadata": {},
   "outputs": [],
   "source": []
  }
 ],
 "metadata": {
  "kernelspec": {
   "display_name": "Python 3 (ipykernel)",
   "language": "python",
   "name": "python3"
  },
  "language_info": {
   "codemirror_mode": {
    "name": "ipython",
    "version": 3
   },
   "file_extension": ".py",
   "mimetype": "text/x-python",
   "name": "python",
   "nbconvert_exporter": "python",
   "pygments_lexer": "ipython3",
   "version": "3.9.13"
  }
 },
 "nbformat": 4,
 "nbformat_minor": 5
}
