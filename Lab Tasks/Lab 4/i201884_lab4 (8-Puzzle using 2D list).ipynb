{
 "cells": [
  {
   "cell_type": "code",
   "execution_count": null,
   "metadata": {},
   "outputs": [],
   "source": [
    "def initialize_board():\n",
    "    board = list()\n",
    "    for i in range(0, 3):\n",
    "        board.append(list())\n",
    "#     board[0].append(1)\n",
    "#     board[0].append(8)\n",
    "#     board[0].append(2)\n",
    "#     board[1].append(' ')\n",
    "#     board[1].append(4)\n",
    "#     board[1].append(3)\n",
    "#     board[2].append(7)\n",
    "#     board[2].append(6)\n",
    "#     board[2].append(5)\n",
    "\n",
    "    board[0].append(2)\n",
    "    board[0].append(8)\n",
    "    board[0].append(3)\n",
    "    board[1].append(1)\n",
    "    board[1].append(6)\n",
    "    board[1].append(4)\n",
    "    board[2].append(7)\n",
    "    board[2].append(' ')\n",
    "    board[2].append(5)\n",
    "    import random\n",
    "    random.shuffle(board)\n",
    "    print(board)\n",
    "    return board\n",
    "    \n",
    "\n",
    "    "
   ]
  },
  {
   "cell_type": "code",
   "execution_count": null,
   "metadata": {},
   "outputs": [],
   "source": [
    "def print_board(board):\n",
    "    \n",
    "    if board is None:\n",
    "        return\n",
    "    \n",
    "    for i in board:\n",
    "        for j in i:\n",
    "            print(j, end=\" | \")\n",
    "        print(\"\\n------------\")"
   ]
  },
  {
   "cell_type": "code",
   "execution_count": null,
   "metadata": {},
   "outputs": [],
   "source": [
    "board = initialize_board()"
   ]
  },
  {
   "cell_type": "code",
   "execution_count": null,
   "metadata": {},
   "outputs": [],
   "source": [
    "print_board(board)"
   ]
  },
  {
   "cell_type": "code",
   "execution_count": null,
   "metadata": {},
   "outputs": [],
   "source": [
    "goal = list()\n",
    "for i in range(0, 3):\n",
    "    goal.append(list())\n",
    "\n",
    "goal[0].append(1)\n",
    "goal[0].append(2)\n",
    "goal[0].append(3)\n",
    "goal[1].append(4)\n",
    "goal[1].append(5)\n",
    "goal[1].append(6)\n",
    "goal[2].append(7)\n",
    "goal[2].append(8)\n",
    "goal[2].append(' ')"
   ]
  },
  {
   "cell_type": "code",
   "execution_count": null,
   "metadata": {},
   "outputs": [],
   "source": [
    "print_board(goal)"
   ]
  },
  {
   "cell_type": "code",
   "execution_count": null,
   "metadata": {},
   "outputs": [],
   "source": [
    "import copy\n",
    "\n",
    "def generate_states(board):\n",
    "    x = 0\n",
    "    y = 0\n",
    "    states = list()\n",
    "    \n",
    "    for i in range(0, 3):\n",
    "        for j in range(0, 3):            \n",
    "            if board[i][j] == ' ':\n",
    "                x = i\n",
    "                y = j\n",
    "    print(\"X: \", x , \" y: \", y)\n",
    "    #swap with left\n",
    "    if y > 0:\n",
    "        tempstate = copy.deepcopy(board)\n",
    "        tempstate[x][y], tempstate[x][y-1] = tempstate[x][y-1], tempstate[x][y]\n",
    "        if tempstate not in states:\n",
    "            states.append(tempstate)\n",
    "        \n",
    "    #swap with right\n",
    "    if y < 2:\n",
    "        tempstate = copy.deepcopy(board)\n",
    "        tempstate[x][y], tempstate[x][y+1] = tempstate[x][y+1], tempstate[x][y]\n",
    "        if tempstate not in states:\n",
    "            states.append(tempstate)\n",
    "    #swap with up\n",
    "    if x > 0:\n",
    "        tempstate = copy.deepcopy(board)\n",
    "        tempstate[x][y], tempstate[x-1][y] = tempstate[x-1][y], tempstate[x][y]\n",
    "        \n",
    "        if tempstate not in states:\n",
    "            states.append(tempstate)\n",
    "    \n",
    "    #swap with down\n",
    "    if x < 2:     \n",
    "        tempstate = copy.deepcopy(board)\n",
    "        tempstate[x][y], tempstate[x+1][y] = tempstate[x+1][y], tempstate[x][y]\n",
    "        \n",
    "        if tempstate not in states:\n",
    "            states.append(tempstate)\n",
    "            \n",
    "    return states \n",
    "    "
   ]
  },
  {
   "cell_type": "code",
   "execution_count": null,
   "metadata": {},
   "outputs": [],
   "source": [
    "states = generate_states(board)\n",
    "print(\"states\", states)\n"
   ]
  },
  {
   "cell_type": "code",
   "execution_count": null,
   "metadata": {},
   "outputs": [],
   "source": [
    "for i in states:\n",
    "    print_board(i)\n",
    "    print(\"+++++++++++\")"
   ]
  },
  {
   "cell_type": "code",
   "execution_count": null,
   "metadata": {},
   "outputs": [],
   "source": []
  },
  {
   "cell_type": "code",
   "execution_count": null,
   "metadata": {},
   "outputs": [],
   "source": [
    "def DFS(startState, goalState):\n",
    "\n",
    "    visited = [startState]\n",
    "    stack = [startState]\n",
    "    counter = 0\n",
    "\n",
    "    while stack:\n",
    "        counter += 1\n",
    "        print(\"Iteration: \", counter)\n",
    "        \n",
    "        S = stack.pop()\n",
    "        print_board(S)\n",
    "        \n",
    "        if S == goalState:\n",
    "            print(\"FOUND SOLUTION IN \", counter, \" ITERATIONS!\")\n",
    "            return\n",
    "\n",
    "        states = generate_states(S)\n",
    "        for state in states:\n",
    "            if state not in visited:\n",
    "                visited.append(state)\n",
    "                stack.append(state)"
   ]
  },
  {
   "cell_type": "code",
   "execution_count": null,
   "metadata": {},
   "outputs": [],
   "source": [
    "DFS(board, goal)"
   ]
  },
  {
   "cell_type": "code",
   "execution_count": null,
   "metadata": {},
   "outputs": [],
   "source": [
    "board[0][0] = \" \"\n",
    "board[0][1] = 1\n",
    "board[0][2] = 3\n",
    "board[1][0] = 4\n",
    "board[1][1] = 2\n",
    "board[1][2] = 5\n",
    "board[2][0] = 7 \n",
    "board[2][1] = 8\n",
    "board[2][2] = 6\n",
    "\n",
    "print(board)\n"
   ]
  },
  {
   "cell_type": "code",
   "execution_count": null,
   "metadata": {},
   "outputs": [],
   "source": [
    "DFS(board, goal)"
   ]
  },
  {
   "cell_type": "markdown",
   "metadata": {},
   "source": [
    "# IDFS"
   ]
  },
  {
   "cell_type": "code",
   "execution_count": null,
   "metadata": {},
   "outputs": [],
   "source": [
    "def IDFS(startState, goalState, depth):\n",
    "    \n",
    "    visited = [startState]\n",
    "    stack = [startState]\n",
    "    \n",
    "    counter = 0\n",
    "    D = 0\n",
    "    \n",
    "    while stack:\n",
    "        \n",
    "        counter += 1\n",
    "        print(\"Iteration: \", counter)\n",
    "        \n",
    "        S = stack.pop()\n",
    "        print_board(S)\n",
    "        \n",
    "        if S == goalState:\n",
    "            print(\"FOUND SOLUTION IN \", counter, \" ITERATIONS!\")\n",
    "            return\n",
    "        \n",
    "        states = generate_states(S)\n",
    "        \n",
    "        if D <= depth:\n",
    "            for state in states:\n",
    "                if state not in visited:\n",
    "                    visited.append(state)\n",
    "                    stack.append(state)\n",
    "            D += 1\n",
    "        else:\n",
    "            D -= 1"
   ]
  },
  {
   "cell_type": "code",
   "execution_count": null,
   "metadata": {},
   "outputs": [],
   "source": [
    "IDFS(board, goal, 1000)"
   ]
  },
  {
   "cell_type": "code",
   "execution_count": null,
   "metadata": {},
   "outputs": [],
   "source": []
  }
 ],
 "metadata": {
  "kernelspec": {
   "display_name": "Python 3 (ipykernel)",
   "language": "python",
   "name": "python3"
  },
  "language_info": {
   "codemirror_mode": {
    "name": "ipython",
    "version": 3
   },
   "file_extension": ".py",
   "mimetype": "text/x-python",
   "name": "python",
   "nbconvert_exporter": "python",
   "pygments_lexer": "ipython3",
   "version": "3.9.13"
  }
 },
 "nbformat": 4,
 "nbformat_minor": 4
}
