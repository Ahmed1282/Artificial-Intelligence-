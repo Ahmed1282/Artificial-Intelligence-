{
 "cells": [
  {
   "cell_type": "code",
   "execution_count": 2,
   "id": "589957e1",
   "metadata": {},
   "outputs": [],
   "source": [
    "import numpy as np\n"
   ]
  },
  {
   "cell_type": "code",
   "execution_count": 3,
   "id": "2836a417",
   "metadata": {},
   "outputs": [
    {
     "name": "stdout",
     "output_type": "stream",
     "text": [
      "----Task 1-----\n",
      "[1 2 3]\n"
     ]
    }
   ],
   "source": [
    "#Task 1\n",
    "print(\"----Task 1-----\")\n",
    "array1 = np.array([1,2,3])\n",
    "print(array1)\n"
   ]
  },
  {
   "cell_type": "code",
   "execution_count": 4,
   "id": "8224ea3a",
   "metadata": {},
   "outputs": [
    {
     "name": "stdout",
     "output_type": "stream",
     "text": [
      "----Task 2-----\n",
      "[1. 2. 3.]\n"
     ]
    }
   ],
   "source": [
    "#Task 2\n",
    "print(\"----Task 2-----\")\n",
    "array2 = array1.astype(float)\n",
    "print(array2)\n"
   ]
  },
  {
   "cell_type": "code",
   "execution_count": 5,
   "id": "9b6d7d20",
   "metadata": {},
   "outputs": [
    {
     "name": "stdout",
     "output_type": "stream",
     "text": [
      "----Task 3-----\n",
      "[0 1 2 3 4 5 6 7 8 9]\n"
     ]
    }
   ],
   "source": [
    "#Task 3\n",
    "print(\"----Task 3-----\")\n",
    "array3 = np.arange(0,10)\n",
    "print(array3)\n"
   ]
  },
  {
   "cell_type": "code",
   "execution_count": 6,
   "id": "a3b3df83",
   "metadata": {},
   "outputs": [
    {
     "name": "stdout",
     "output_type": "stream",
     "text": [
      "----Task 4-----\n",
      "[ 0.          3.83333333  7.66666667 11.5        15.33333333 19.16666667\n",
      " 23.        ]\n"
     ]
    }
   ],
   "source": [
    "#Task 4\n",
    "print(\"----Task 4-----\")\n",
    "array4 = np.linspace(0,23,7)\n",
    "print(array4)"
   ]
  },
  {
   "cell_type": "code",
   "execution_count": 11,
   "id": "b23c7239",
   "metadata": {},
   "outputs": [
    {
     "name": "stdout",
     "output_type": "stream",
     "text": [
      "----Task 5-----\n",
      "(2, 5, 1, 5, 2, 1)\n",
      "[[[[[[5]\n",
      "     [5]]\n",
      "\n",
      "    [[5]\n",
      "     [5]]\n",
      "\n",
      "    [[5]\n",
      "     [5]]\n",
      "\n",
      "    [[5]\n",
      "     [5]]\n",
      "\n",
      "    [[5]\n",
      "     [5]]]]\n",
      "\n",
      "\n",
      "\n",
      "  [[[[5]\n",
      "     [5]]\n",
      "\n",
      "    [[5]\n",
      "     [5]]\n",
      "\n",
      "    [[5]\n",
      "     [5]]\n",
      "\n",
      "    [[5]\n",
      "     [5]]\n",
      "\n",
      "    [[5]\n",
      "     [5]]]]\n",
      "\n",
      "\n",
      "\n",
      "  [[[[5]\n",
      "     [5]]\n",
      "\n",
      "    [[5]\n",
      "     [5]]\n",
      "\n",
      "    [[5]\n",
      "     [5]]\n",
      "\n",
      "    [[5]\n",
      "     [5]]\n",
      "\n",
      "    [[5]\n",
      "     [5]]]]\n",
      "\n",
      "\n",
      "\n",
      "  [[[[5]\n",
      "     [5]]\n",
      "\n",
      "    [[5]\n",
      "     [5]]\n",
      "\n",
      "    [[5]\n",
      "     [5]]\n",
      "\n",
      "    [[5]\n",
      "     [5]]\n",
      "\n",
      "    [[5]\n",
      "     [5]]]]\n",
      "\n",
      "\n",
      "\n",
      "  [[[[5]\n",
      "     [5]]\n",
      "\n",
      "    [[5]\n",
      "     [5]]\n",
      "\n",
      "    [[5]\n",
      "     [5]]\n",
      "\n",
      "    [[5]\n",
      "     [5]]\n",
      "\n",
      "    [[5]\n",
      "     [5]]]]]\n",
      "\n",
      "\n",
      "\n",
      "\n",
      " [[[[[5]\n",
      "     [5]]\n",
      "\n",
      "    [[5]\n",
      "     [5]]\n",
      "\n",
      "    [[5]\n",
      "     [5]]\n",
      "\n",
      "    [[5]\n",
      "     [5]]\n",
      "\n",
      "    [[5]\n",
      "     [5]]]]\n",
      "\n",
      "\n",
      "\n",
      "  [[[[5]\n",
      "     [5]]\n",
      "\n",
      "    [[5]\n",
      "     [5]]\n",
      "\n",
      "    [[5]\n",
      "     [5]]\n",
      "\n",
      "    [[5]\n",
      "     [5]]\n",
      "\n",
      "    [[5]\n",
      "     [5]]]]\n",
      "\n",
      "\n",
      "\n",
      "  [[[[5]\n",
      "     [5]]\n",
      "\n",
      "    [[5]\n",
      "     [5]]\n",
      "\n",
      "    [[5]\n",
      "     [5]]\n",
      "\n",
      "    [[5]\n",
      "     [5]]\n",
      "\n",
      "    [[5]\n",
      "     [5]]]]\n",
      "\n",
      "\n",
      "\n",
      "  [[[[5]\n",
      "     [5]]\n",
      "\n",
      "    [[5]\n",
      "     [5]]\n",
      "\n",
      "    [[5]\n",
      "     [5]]\n",
      "\n",
      "    [[5]\n",
      "     [5]]\n",
      "\n",
      "    [[5]\n",
      "     [5]]]]\n",
      "\n",
      "\n",
      "\n",
      "  [[[[5]\n",
      "     [5]]\n",
      "\n",
      "    [[5]\n",
      "     [5]]\n",
      "\n",
      "    [[5]\n",
      "     [5]]\n",
      "\n",
      "    [[5]\n",
      "     [5]]\n",
      "\n",
      "    [[5]\n",
      "     [5]]]]]]\n"
     ]
    }
   ],
   "source": [
    "#Task 5\n",
    "print(\"----Task 5-----\")\n",
    "array5 = np.full((2,5,1,5,2,1),5)\n",
    "print(array5.shape)\n",
    "print(array5)"
   ]
  },
  {
   "cell_type": "code",
   "execution_count": 12,
   "id": "78001ebd",
   "metadata": {},
   "outputs": [
    {
     "name": "stdout",
     "output_type": "stream",
     "text": [
      "----Task 6-----\n",
      "(2, 5, 5, 2)\n"
     ]
    }
   ],
   "source": [
    "#Task 6\n",
    "print(\"----Task 6-----\")\n",
    "array6 = np.squeeze(array5)\n",
    "print(array6.shape)\n"
   ]
  },
  {
   "cell_type": "code",
   "execution_count": 13,
   "id": "97f02319",
   "metadata": {},
   "outputs": [
    {
     "name": "stdout",
     "output_type": "stream",
     "text": [
      "----Task 7-----\n",
      "(20, 5)\n"
     ]
    }
   ],
   "source": [
    "#Task 7\n",
    "print(\"----Task 7-----\")\n",
    "array7 = np.reshape(array6,(20,5))\n",
    "print(array7.shape)\n"
   ]
  },
  {
   "cell_type": "code",
   "execution_count": 14,
   "id": "5ae5ee12",
   "metadata": {},
   "outputs": [
    {
     "name": "stdout",
     "output_type": "stream",
     "text": [
      "----Task 8-----\n",
      "max:  33.324043556739014\n",
      "mean:  20.764888669394654\n",
      "std:  4.3640185551898405\n",
      "var:  19.044657950041223\n",
      "min:  9.712221315691753\n"
     ]
    }
   ],
   "source": [
    "#Task 8\n",
    "print(\"----Task 8-----\")\n",
    "mean = 21\n",
    "sigma = 4.5\n",
    "array8 = np.random.normal(mean,sigma, (3,3,12,3))\n",
    "print (\"max: \" ,np.max(array8))\n",
    "print (\"mean: \" ,np.mean(array8))\n",
    "print (\"std: \" ,np.std(array8))\n",
    "print (\"var: \" ,np.var(array8))\n",
    "print (\"min: \" ,np.min(array8))\n"
   ]
  },
  {
   "cell_type": "code",
   "execution_count": 15,
   "id": "c512ed75",
   "metadata": {},
   "outputs": [
    {
     "name": "stdout",
     "output_type": "stream",
     "text": [
      "----Task 10-----\n",
      "[0 1 2 3 4 5 6 7 8 9]\n"
     ]
    }
   ],
   "source": [
    "#Task 10\n",
    "print(\"----Task 10-----\")\n",
    "array10 = array3.flatten()\n",
    "print(array10)"
   ]
  },
  {
   "cell_type": "code",
   "execution_count": null,
   "id": "8edac1d8",
   "metadata": {},
   "outputs": [],
   "source": []
  }
 ],
 "metadata": {
  "kernelspec": {
   "display_name": "Python 3 (ipykernel)",
   "language": "python",
   "name": "python3"
  },
  "language_info": {
   "codemirror_mode": {
    "name": "ipython",
    "version": 3
   },
   "file_extension": ".py",
   "mimetype": "text/x-python",
   "name": "python",
   "nbconvert_exporter": "python",
   "pygments_lexer": "ipython3",
   "version": "3.9.13"
  }
 },
 "nbformat": 4,
 "nbformat_minor": 5
}
